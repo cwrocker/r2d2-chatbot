{
 "cells": [
  {
   "cell_type": "markdown",
   "id": "89f7b3a3-d1cf-463e-a1f8-4050e60de2b2",
   "metadata": {},
   "source": [
    "## Introduction"
   ]
  },
  {
   "cell_type": "markdown",
   "id": "9c7f02e1-a85e-4e45-b66f-81c3d47f639c",
   "metadata": {},
   "source": [
    "The following text details each of the six libraries used to make this project possible. Ultimately, many of them only provide one-two key lines from their libraries, so I encourage you to dig deeper into these tools to see what you can do with them through the links I provide throughout this page"
   ]
  },
  {
   "cell_type": "markdown",
   "id": "23189b87-d415-4ee2-bdcb-125a9fa02071",
   "metadata": {},
   "source": [
    "## OS"
   ]
  },
  {
   "cell_type": "markdown",
   "id": "6493b2c4-2419-42e5-804f-120334e350a3",
   "metadata": {},
   "source": [
    "The OS module is part of the Python standard library, and it allows Python to access the operating system via code. For our purposes, we will use it to access and manipulate use files via os.path . \n",
    "Further information can be found at <a href=\"https://docs.python.org/3/library/os.html\">https://docs.python.org/3/library/os.html</a> "
   ]
  },
  {
   "cell_type": "markdown",
   "id": "6e6ff318-7b04-461d-a43e-41eefa24e64b",
   "metadata": {},
   "source": [
    "## String"
   ]
  },
  {
   "cell_type": "markdown",
   "id": "0d569f82-923f-4cbb-b673-fd7c886308d8",
   "metadata": {},
   "source": [
    "The string module is also part of the Python standard library, and this module allows for easy manipulation of text strings, including formatting and checking if certain pieces of text belong to a predefined list of characters. For our purposes, we will be focusing on string.ascii_lowercase, which we use to check if the characters in a text are all lowercase. Further information about this can be found at <a href=\"https://www.geeksforgeeks.org/python-string-module/\">https://www.geeksforgeeks.org/python-string-module/</a>"
   ]
  },
  {
   "cell_type": "markdown",
   "id": "93b28091-2325-430d-84e2-6bccb0235f2c",
   "metadata": {},
   "source": [
    "## SpeechRecognition"
   ]
  },
  {
   "cell_type": "markdown",
   "id": "e2457f18-699b-40b4-99f3-ebcc615f6423",
   "metadata": {},
   "source": [
    "The Python SpeechRecognition library is, as the name suggests, a library for performing speech recognition. However, what makes it so useful is that it has built-in support for a variety of audio APIs, including IBM Speech-To-Text and Microsoft Azure Speech. For our tutorial, we will be using the Google Speech Recognition API. Further information about this library can be found at  <a href=\"https://pypi.org/project/SpeechRecognition/\">https://pypi.org/project/SpeechRecognition/</a>"
   ]
  },
  {
   "cell_type": "markdown",
   "id": "d3607a65-9cbc-4bef-a19e-be8522560c74",
   "metadata": {},
   "source": [
    "## PyAudio"
   ]
  },
  {
   "cell_type": "markdown",
   "id": "1357472f-efef-4111-8b5e-8a7d780ceef0",
   "metadata": {},
   "source": [
    "The PyAudio library allows for programmers to record audio or play previously existing audio from a file. For our purposes, we will specifically be looking at opening audio files. Further information about this library can be found at  <a href=\"https://people.csail.mit.edu/hubert/pyaudio/docs/\">https://people.csail.mit.edu/hubert/pyaudio/docs/</a>"
   ]
  },
  {
   "cell_type": "markdown",
   "id": "4342ab13-055a-45bd-ba0b-07089d31af3e",
   "metadata": {},
   "source": [
    "## Wave"
   ]
  },
  {
   "cell_type": "markdown",
   "id": "445a01b4-34e4-4f17-9fef-a8d4d81a5ae7",
   "metadata": {},
   "source": [
    "The Python Wave library allows  programmers to access and manipulate .wav audio files using the \"with wave.open\" line of code. From there, we can get numerous different insights about a WAV file of interest or even create new wave files of our own. For our purposes, we will be getting the total 'frames' (the number of samples per second). Further information about this library can be found at  <a href=\"https://docs.python.org/3/library/wave.html\">https://docs.python.org/3/library/wave.html</a> "
   ]
  },
  {
   "cell_type": "markdown",
   "id": "7b3c4501-a84a-4f65-a7ae-39941d295991",
   "metadata": {},
   "source": [
    "## OpenAI"
   ]
  },
  {
   "cell_type": "markdown",
   "id": "482eaea2-618f-4b8e-9833-043f5caa8208",
   "metadata": {},
   "source": [
    "The OpenAI library is a Python library developed by OpenAI, which is the company that has developed AI models such as ChatGPT. Thus, it provides a code-based way to interact with a large language model (LLM) without using our personal hardware. However, I should note that this comes at a cost (a couple of cents per message). Therefore, in order to use this library with ChatGPT, you will need to load some money. You will also need to get an API key, a personal identifying string of text that allows you to access your account (and therefore your personal funds). While I do go in depth and mention the link in the tutorial detailing getting an API key below, you can also go to the link here for reference: <a href=\"https://platform.openai.com/docs/overview\">https://platform.openai.com/docs/overview</a> "
   ]
  },
  {
   "cell_type": "markdown",
   "id": "1336fd25-53a3-4191-a083-2d972b75cf8f",
   "metadata": {},
   "source": [
    "Now that you have gotten a breakdown of the different libraries, you may feel free to either explore how to get the API key, I will show this process in the following link: **Insert Link to OpenAI APIKey tutorial**. However, if you have already explored that link and wish to continue to look at the main project code, you can go here **Insert link to go back to home**"
   ]
  }
 ],
 "metadata": {
  "kernelspec": {
   "display_name": "Python 3 (ipykernel)",
   "language": "python",
   "name": "python3"
  },
  "language_info": {
   "codemirror_mode": {
    "name": "ipython",
    "version": 3
   },
   "file_extension": ".py",
   "mimetype": "text/x-python",
   "name": "python",
   "nbconvert_exporter": "python",
   "pygments_lexer": "ipython3",
   "version": "3.11.5"
  }
 },
 "nbformat": 4,
 "nbformat_minor": 5
}
