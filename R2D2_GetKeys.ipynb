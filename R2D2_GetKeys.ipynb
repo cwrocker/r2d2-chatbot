{
 "cells": [
  {
   "cell_type": "markdown",
   "id": "5de23834-80e0-48ad-a3c0-ebbb0cace120",
   "metadata": {},
   "source": [
    "# Introduction"
   ]
  },
  {
   "cell_type": "markdown",
   "id": "66fbc4e9-55af-49e8-a58c-c9c7f0902a45",
   "metadata": {},
   "source": [
    "The following mini-tutorial shows you how to get your own API Key to begin using ChatGPT from Python code and includes screen-by-screenshot, step-by-step instructions to ensure you do not get lost. I also includen information on other key pages that may be helpful to ensure you are not spending too much money while using this API. If you wish to know more about the different libraries used in the code, you can go to the link here **insert link**. If you wish to return to the homepage, go here **insert link**"
   ]
  },
  {
   "cell_type": "markdown",
   "id": "ef117ce1-ff4d-4485-9d22-367da015fe7f",
   "metadata": {},
   "source": [
    "# How to Access The API"
   ]
  },
  {
   "cell_type": "markdown",
   "id": "5a95c16d-8055-46f4-9a29-351d0c3a7040",
   "metadata": {},
   "source": [
    "Start at this link\n",
    "<a href=\"https://openai.com/api/\">https://openai.com/api/</a> \n"
   ]
  },
  {
   "cell_type": "markdown",
   "id": "68b6b57c-1c9c-4daf-8d13-213739df0737",
   "metadata": {},
   "source": [
    "<img src=\"Screenshots/login1.png\" alt=\"My Screenshot\" width=\"600\">"
   ]
  },
  {
   "cell_type": "markdown",
   "id": "288debd4-28d5-495e-8878-d6167f8c2982",
   "metadata": {},
   "source": [
    "Click “Log in” and in the Dropdown Click “API Platform”. That willl take you to the following screen:\n",
    "\n"
   ]
  },
  {
   "cell_type": "markdown",
   "id": "346d1da5-c6c8-45ce-ac98-a83b7f51d2a9",
   "metadata": {},
   "source": [
    "<img src=\"Screenshots/login2.png\" alt=\"My Screenshot\" width=\"600\">"
   ]
  },
  {
   "cell_type": "markdown",
   "id": "df16e1fe-4420-4a05-a76c-03a7f3fc0e3d",
   "metadata": {},
   "source": [
    "Click the hyperlink that says \"Sign Up\" which should take you to this screen"
   ]
  },
  {
   "cell_type": "markdown",
   "id": "f93808df-3e43-4c9c-ae44-03ec02db695f",
   "metadata": {},
   "source": [
    "<img src=\"Screenshots/login3.png\" alt=\"My Screenshot\" width=\"600\">"
   ]
  },
  {
   "cell_type": "markdown",
   "id": "57b11c45-6053-444f-8180-9cdd76033599",
   "metadata": {},
   "source": [
    "Now click \"Continue with Google\" which should take you to this screen"
   ]
  },
  {
   "cell_type": "markdown",
   "id": "99d0edc6-307e-4664-aeeb-ee7eb9931828",
   "metadata": {},
   "source": [
    "<img src=\"Screenshots/login4.png\" alt=\"My Screenshot\" width=\"600\">"
   ]
  },
  {
   "cell_type": "markdown",
   "id": "3d7943b1-3b74-46dd-a628-f7de62f76131",
   "metadata": {},
   "source": [
    "They will confirm if you are willing to create an account and you need to hit 'continue' from there. Then, it will ask for your name, birthday, (you choose what to enter here, Im not a cop). Then it will invite you to name the organization you are doing this for, as well as start up a new project (feel free to do this here but I elected not to for this tutorial)."
   ]
  },
  {
   "cell_type": "markdown",
   "id": "336df6a1-3f30-4103-b7b9-f6a545010d08",
   "metadata": {},
   "source": [
    "From there, you should see the following screen. Please note, from this point in the tutorial onwards, I am using an account in which I have personal projects in and not a 'clean' account so that you may see what the screens look like with more information populated and not be confused as it happens to you"
   ]
  },
  {
   "cell_type": "markdown",
   "id": "8e08bd42-aeca-4525-aceb-22f15a684a32",
   "metadata": {},
   "source": [
    "<img src=\"Screenshots/OpenAI1.png\" alt=\"My Screenshot\" width=\"600\">"
   ]
  },
  {
   "cell_type": "markdown",
   "id": "80577fa1-43ac-4e05-9162-1c82bf485638",
   "metadata": {},
   "source": [
    "At the top left, you will see a dropdown, click on it and select ‘Create Project'\n"
   ]
  },
  {
   "cell_type": "markdown",
   "id": "653ef471-4694-492f-b684-0074d1f34ac0",
   "metadata": {},
   "source": [
    "<img src=\"Screenshots/OpenAI2.png\" alt=\"My Screenshot\" width=\"600\">"
   ]
  },
  {
   "cell_type": "markdown",
   "id": "0a2be06a-a014-4525-8c9e-fe8910da6e27",
   "metadata": {},
   "source": [
    "Now, give it a relevant name and select 'Create'"
   ]
  },
  {
   "cell_type": "markdown",
   "id": "e383c5f3-9e61-43bc-951c-1cc3943a54ec",
   "metadata": {},
   "source": [
    "<img src=\"Screenshots/OpenAI3.png\" alt=\"My Screenshot\" width=\"600\">"
   ]
  },
  {
   "cell_type": "markdown",
   "id": "c51f3784-ed11-4977-bf10-847bbabd68ab",
   "metadata": {},
   "source": [
    "Next, Go to the same dropdown you did to create the project and select “Manage Projects\""
   ]
  },
  {
   "cell_type": "markdown",
   "id": "e383035b-bae6-479f-8c51-a050bedddaef",
   "metadata": {},
   "source": [
    "<img src=\"Screenshots/OpenAI4.png\" alt=\"My Screenshot\" width=\"600\">"
   ]
  },
  {
   "cell_type": "markdown",
   "id": "00e9d99a-9554-4afd-b132-b5be05c51e3d",
   "metadata": {},
   "source": [
    "In the “Organization” section, you will see several different choices. The key ones you need to focus on are the following:\n",
    "\n",
    "- API Keys: Where you will create the API key, you can use in your code. \n",
    "- Billing: Where you can set up a method to pay for the usage of the API.\n",
    "- Limits: Where you can set a maximum monthly value for the amount you are willing to spend on this API.\n",
    "- Usage: Details how much you have spent across a span of time"
   ]
  },
  {
   "cell_type": "markdown",
   "id": "15f0a2a0-8065-445d-8422-2f49b61cd756",
   "metadata": {},
   "source": [
    "Click on \"API Keys\" and you will see the following screen"
   ]
  },
  {
   "cell_type": "markdown",
   "id": "2057b927-563b-4a30-a0cf-b3722f390106",
   "metadata": {},
   "source": [
    "<img src=\"Screenshots/APIKeys1.png\" alt=\"My Screenshot\" width=\"600\">"
   ]
  },
  {
   "cell_type": "markdown",
   "id": "b0b8030e-a2d2-4595-bd6b-b7b0afc27729",
   "metadata": {},
   "source": [
    "Select \"Create new secret key\" at the top right to get the following screen"
   ]
  },
  {
   "cell_type": "markdown",
   "id": "9bd6d25e-61d9-423e-a734-c27155134877",
   "metadata": {},
   "source": [
    "<img src=\"Screenshots/APIKeys2.png\" alt=\"My Screenshot\" width=\"600\">"
   ]
  },
  {
   "cell_type": "markdown",
   "id": "6ee22e71-d8bc-4510-b35d-443da9e025cd",
   "metadata": {},
   "source": [
    "Here, you can give a name to the key and select the project you want the key to be associated with. Do these things and click 'Create Secret Key' which should take you to the next screen"
   ]
  },
  {
   "cell_type": "markdown",
   "id": "34311b89-a43c-4375-a9d8-e7dff849e99b",
   "metadata": {},
   "source": [
    "<img src=\"Screenshots/APIKeys3.png\" alt=\"My Screenshot\" width=\"600\">"
   ]
  },
  {
   "cell_type": "markdown",
   "id": "c78226db-0c7c-495b-98c1-24e878148eda",
   "metadata": {},
   "source": [
    "Dont worry, this is not the complete key (it's roughly triple the length of the current text you see there). I do encourage you though to listen to the warning here. **You cannot see the secret key ever again. If you ever lose it, it is gone forever and you need to create a new key (you can see some samples of this with the names of my own keys)** So make sure to copy/paste the key someplace you will remember it"
   ]
  },
  {
   "cell_type": "markdown",
   "id": "95b1ed48-d208-4f1d-b754-280994a657fc",
   "metadata": {},
   "source": [
    "Now, click on the 'Billing' tab and I will show you what you need to do from there, you should end up on a screen like this:"
   ]
  },
  {
   "cell_type": "markdown",
   "id": "ecbe990c-5cff-4e4b-8453-9ba80ba6caef",
   "metadata": {
    "scrolled": true
   },
   "source": [
    "<img src=\"Screenshots/Billing1.png\" alt=\"My Screenshot\" width=\"600\">"
   ]
  },
  {
   "cell_type": "markdown",
   "id": "99d4a0db-d1a1-46bc-a80f-f0c515619d34",
   "metadata": {},
   "source": [
    "Here, you can click on 'Add to credit balance' to add funds for your API to work. It will direct you to this screen. You may add as much money as you would like. However, the minimum amount, $5.00, should be more than enough (when I was testing this code, I ran the API 23 times and found that I had still spent less than one cent in total). "
   ]
  },
  {
   "cell_type": "markdown",
   "id": "9221dc45-139f-47c7-b3c8-808237e85182",
   "metadata": {},
   "source": [
    "<img src=\"Screenshots/Billing2.png\" alt=\"My Screenshot\" width=\"600\">"
   ]
  },
  {
   "cell_type": "markdown",
   "id": "87444bda-6d49-4ec1-88c1-09f251792ed9",
   "metadata": {},
   "source": [
    "From there, you can click 'Add payment method' to add in your personal credit/debit card details (I trust you to know how to enter information at this point). And then click 'Continue'"
   ]
  },
  {
   "cell_type": "markdown",
   "id": "56f401a9-feee-46aa-a96a-9c3927e626e3",
   "metadata": {},
   "source": [
    "Now click on the Limits tab which directs you to this screen"
   ]
  },
  {
   "cell_type": "markdown",
   "id": "d594b98d-52ac-4f64-8d6f-52fb3cf1f672",
   "metadata": {},
   "source": [
    "<img src=\"Screenshots/Limits1.png\" alt=\"My Screenshot\" width=\"600\">"
   ]
  },
  {
   "cell_type": "markdown",
   "id": "1f5829af-ae41-43df-9120-4094cc0b08ff",
   "metadata": {},
   "source": [
    "Here, all you can do is click on the 'Set Budget' button which will direct you to the screen below"
   ]
  },
  {
   "cell_type": "markdown",
   "id": "c7bf2421-1006-4319-affd-2fa4ada64d52",
   "metadata": {},
   "source": [
    "<img src=\"Screenshots/Limits2.png\" alt=\"My Screenshot\" width=\"600\">"
   ]
  },
  {
   "cell_type": "markdown",
   "id": "4f1e4da1-905a-4cbb-a1ad-45e21071b628",
   "metadata": {},
   "source": [
    "Here, you can set a certain budget in the event you somehow talk to r2d2 so much that it exceeds your maximum desired monthly budget"
   ]
  },
  {
   "cell_type": "markdown",
   "id": "473b9cce-4c37-43d1-b878-aa6a90446fbf",
   "metadata": {},
   "source": [
    "Now, you can go to the Usage tab. While there are certainly things you can click on in this tab. I only show it to show that there is a way to monitor expenditures over time. Here, you can see how little the current model I am using costs"
   ]
  },
  {
   "cell_type": "markdown",
   "id": "95860459-8145-4f3f-9fa2-4efb0350653b",
   "metadata": {
    "scrolled": true
   },
   "source": [
    "<img src=\"Screenshots/Usage1.png\" alt=\"My Screenshot\" width=\"600\">"
   ]
  },
  {
   "cell_type": "markdown",
   "id": "0c744910-4476-45d7-9ed5-d3b1be421b8e",
   "metadata": {},
   "source": [
    "By doing all of these steps, you have now ensured that you can have a working API key and create a Chatbot of any sort backed by ChatGPT (beyond just the scope of this tutorial). Links to more information about different code libraries used in this project and the code to finish this project can be found at the top of the page"
   ]
  },
  {
   "cell_type": "code",
   "execution_count": null,
   "id": "6a9d8dc6-e3d7-40f1-a38c-61454d3ed664",
   "metadata": {},
   "outputs": [],
   "source": []
  }
 ],
 "metadata": {
  "kernelspec": {
   "display_name": "Python 3 (ipykernel)",
   "language": "python",
   "name": "python3"
  },
  "language_info": {
   "codemirror_mode": {
    "name": "ipython",
    "version": 3
   },
   "file_extension": ".py",
   "mimetype": "text/x-python",
   "name": "python",
   "nbconvert_exporter": "python",
   "pygments_lexer": "ipython3",
   "version": "3.11.5"
  }
 },
 "nbformat": 4,
 "nbformat_minor": 5
}
